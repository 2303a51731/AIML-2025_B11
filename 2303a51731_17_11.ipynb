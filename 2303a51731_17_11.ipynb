{
  "nbformat": 4,
  "nbformat_minor": 0,
  "metadata": {
    "colab": {
      "provenance": [],
      "authorship_tag": "ABX9TyNggv1eKiSSxVvmISeHB8m8",
      "include_colab_link": true
    },
    "kernelspec": {
      "name": "python3",
      "display_name": "Python 3"
    },
    "language_info": {
      "name": "python"
    }
  },
  "cells": [
    {
      "cell_type": "markdown",
      "metadata": {
        "id": "view-in-github",
        "colab_type": "text"
      },
      "source": [
        "<a href=\"https://colab.research.google.com/github/2303a51731/AIML-2025_B11/blob/main/2303a51731_17_11.ipynb\" target=\"_parent\"><img src=\"https://colab.research.google.com/assets/colab-badge.svg\" alt=\"Open In Colab\"/></a>"
      ]
    },
    {
      "cell_type": "markdown",
      "source": [
        "Prediction of the role of specific drugs on patients using Drug Reviews (Drugs.com)\n",
        "\n",
        "1.Identify the top 5 reasons for drug usage.\n",
        "2.Identify the condition with the most usage of drugs.\n",
        "3.Find the maximum and minimum count of users who found the drug review useful.\n",
        "4.Name the drug most used according to drug reviews.\n",
        "5.Identify the maximum count of 10-star ratings in the drug reviews.\n",
        "6.Apply either a Classification Model or Clustering Model to evaluate the dataset."
      ],
      "metadata": {
        "id": "pxo8dnFc4p6s"
      }
    },
    {
      "cell_type": "code",
      "source": [
        "import pandas as pd\n",
        "from collections import Counter\n",
        "import matplotlib.pyplot as plt\n",
        "from sklearn.model_selection import train_test_split\n",
        "from sklearn.ensemble import RandomForestClassifier\n",
        "from sklearn.preprocessing import LabelEncoder\n",
        "from sklearn.cluster import KMeans"
      ],
      "metadata": {
        "id": "VVkDFikC_Eiy"
      },
      "execution_count": 6,
      "outputs": []
    },
    {
      "cell_type": "code",
      "source": [
        "# Step 1: Load the dataset safely\n",
        "try:\n",
        "    # Adjust the delimiter if needed\n",
        "    df = pd.read_csv(\"drugsCom_train.csv\", on_bad_lines='skip', low_memory=False)\n",
        "    print(\"Dataset loaded successfully!\")\n",
        "except FileNotFoundError:\n",
        "    print(\"Error: Dataset file not found. Please check the file path and name.\")\n",
        "    exit()\n",
        "except Exception as e:\n",
        "    print(\"Error loading dataset:\", e)\n",
        "    exit()"
      ],
      "metadata": {
        "colab": {
          "base_uri": "https://localhost:8080/"
        },
        "id": "jgRejVYqABcU",
        "outputId": "783747db-cd25-44d7-c6d8-64c7e0260e4e"
      },
      "execution_count": 7,
      "outputs": [
        {
          "output_type": "stream",
          "name": "stdout",
          "text": [
            "Dataset loaded successfully!\n"
          ]
        }
      ]
    },
    {
      "cell_type": "code",
      "source": [
        "# Preview the dataset\n",
        "print(\"\\nDataset Preview:\")\n",
        "print(df.head())\n"
      ],
      "metadata": {
        "colab": {
          "base_uri": "https://localhost:8080/"
        },
        "id": "o-ky2QrSAGOY",
        "outputId": "ff5c1871-2cdf-4f6a-a369-ebd4653402b4"
      },
      "execution_count": 8,
      "outputs": [
        {
          "output_type": "stream",
          "name": "stdout",
          "text": [
            "\n",
            "Dataset Preview:\n",
            "                                                                                                      \\tdrugName\\tcondition\\treview\\trating\\tdate\\tusefulCount\n",
            "206461\\tValsartan\\tLeft Ventricular Dysfunction... I take it in combination of Bystolic 5 Mg and F...                                           2012\\t27      \n",
            "We have tried many different medications and so... 2010\\t192                                                                                         NaN      \n",
            "The positive side is that I didn&#039;t have an... 2009\\t17                                                                                          NaN      \n",
            "155963\\tCialis\\tBenign Prostatic Hyperplasia\\t\"... lower bowel preassure. 3rd day erections would ...                                           2015\\t43      \n",
            "74811\\tKeppra\\tEpilepsy\\t\"\"\" I Ve had  nothing ... 2016\\t11                                                                                          NaN      \n"
          ]
        }
      ]
    },
    {
      "cell_type": "code",
      "source": [
        "# Step 1: Load the dataset safely\n",
        "try:\n",
        "    # Adjust the delimiter if needed\n",
        "    # The original code assumed a comma as the delimiter.\n",
        "    # Change the delimiter to '\\t' if your file is tab-separated.\n",
        "    df = pd.read_csv(\"drugsCom_train.csv\", on_bad_lines='skip', low_memory=False, delimiter='\\t')\n",
        "    print(\"Dataset loaded successfully!\")\n",
        "except FileNotFoundError:\n",
        "    print(\"Error: Dataset file not found. Please check the file path and name.\")\n",
        "    exit()\n",
        "except Exception as e:\n",
        "    print(\"Error loading dataset:\", e)\n",
        "    exit()"
      ],
      "metadata": {
        "colab": {
          "base_uri": "https://localhost:8080/"
        },
        "id": "tYejpj74Aaq3",
        "outputId": "7ec8fcc3-d888-4d26-eafd-66365d8e3f4d"
      },
      "execution_count": 10,
      "outputs": [
        {
          "output_type": "stream",
          "name": "stdout",
          "text": [
            "Dataset loaded successfully!\n"
          ]
        }
      ]
    },
    {
      "cell_type": "code",
      "source": [
        "\n",
        "# Task 1: Identify the top 5 reasons for drug usage\n",
        "top_reasons = df['condition'].value_counts().head(5)\n",
        "print(\"\\nTop 5 Reasons for Drug Usage:\")\n",
        "print(top_reasons)\n",
        "\n"
      ],
      "metadata": {
        "colab": {
          "base_uri": "https://localhost:8080/"
        },
        "id": "79CaYzA8Ac5M",
        "outputId": "c48d3a12-f92e-48fb-80fe-6688379a3094"
      },
      "execution_count": 11,
      "outputs": [
        {
          "output_type": "stream",
          "name": "stdout",
          "text": [
            "\n",
            "Top 5 Reasons for Drug Usage:\n",
            "condition\n",
            "Birth Control    28788\n",
            "Depression        9069\n",
            "Pain              6145\n",
            "Anxiety           5904\n",
            "Acne              5588\n",
            "Name: count, dtype: int64\n"
          ]
        }
      ]
    },
    {
      "cell_type": "code",
      "source": [
        "# Task 2: Identify the condition with the most usage of drugs\n",
        "most_common_condition = df['condition'].value_counts().idxmax()\n",
        "print(\"\\nCondition with the most usage of drugs:\", most_common_condition)"
      ],
      "metadata": {
        "colab": {
          "base_uri": "https://localhost:8080/"
        },
        "id": "zYR26jRFAlCs",
        "outputId": "77f73829-2549-497f-a25d-ed4f835684f5"
      },
      "execution_count": 12,
      "outputs": [
        {
          "output_type": "stream",
          "name": "stdout",
          "text": [
            "\n",
            "Condition with the most usage of drugs: Birth Control\n"
          ]
        }
      ]
    },
    {
      "cell_type": "code",
      "source": [
        "# Task 3: Find the max and min count of users who found the drug review useful\n",
        "max_useful_count = df['usefulCount'].max()\n",
        "min_useful_count = df['usefulCount'].min()\n",
        "print(\"\\nMax count of users who found a review useful:\", max_useful_count)\n",
        "print(\"Min count of users who found a review useful:\", min_useful_count)\n"
      ],
      "metadata": {
        "colab": {
          "base_uri": "https://localhost:8080/"
        },
        "id": "QHkoET06AquP",
        "outputId": "3f4817ae-2687-47c4-9c50-f434eec65925"
      },
      "execution_count": 13,
      "outputs": [
        {
          "output_type": "stream",
          "name": "stdout",
          "text": [
            "\n",
            "Max count of users who found a review useful: 1291\n",
            "Min count of users who found a review useful: 0\n"
          ]
        }
      ]
    },
    {
      "cell_type": "code",
      "source": [
        "# Task 4: Name the drug most used according to drug reviews\n",
        "most_used_drug = df['drugName'].value_counts().idxmax()\n",
        "print(\"\\nMost used drug according to drug reviews:\", most_used_drug)\n"
      ],
      "metadata": {
        "colab": {
          "base_uri": "https://localhost:8080/"
        },
        "id": "RW5p7xOeAven",
        "outputId": "afe3b3c7-17f5-40a9-be10-3c2c0ed33b2c"
      },
      "execution_count": 14,
      "outputs": [
        {
          "output_type": "stream",
          "name": "stdout",
          "text": [
            "\n",
            "Most used drug according to drug reviews: Levonorgestrel\n"
          ]
        }
      ]
    },
    {
      "cell_type": "code",
      "source": [
        "# Task 5: Identify the max count of 10-star ratings in the drug reviews\n",
        "max_10_star_count = df[df['rating'] == 10].shape[0]\n",
        "print(\"\\nMax count of 10-star ratings in the drug reviews:\", max_10_star_count)"
      ],
      "metadata": {
        "colab": {
          "base_uri": "https://localhost:8080/"
        },
        "id": "hilEK999AzuN",
        "outputId": "a83360c1-aaa3-4f0b-dbf0-72432648ec6d"
      },
      "execution_count": 15,
      "outputs": [
        {
          "output_type": "stream",
          "name": "stdout",
          "text": [
            "\n",
            "Max count of 10-star ratings in the drug reviews: 50989\n"
          ]
        }
      ]
    },
    {
      "cell_type": "code",
      "source": [
        "# Task 6: Apply Classification or Clustering Model\n",
        "# Encode the 'condition' column for modeling\n",
        "label_encoder = LabelEncoder()\n",
        "df['condition_encoded'] = label_encoder.fit_transform(df['condition'])\n"
      ],
      "metadata": {
        "id": "vq0Gs99VA4U7"
      },
      "execution_count": 16,
      "outputs": []
    },
    {
      "cell_type": "code",
      "source": [
        "# Prepare features and target for classification\n",
        "X = df[['condition_encoded', 'usefulCount']]\n",
        "y = (df['rating'] >= 8).astype(int)  # Binary target: 1 for positive reviews (rating >= 8)\n"
      ],
      "metadata": {
        "id": "fhAZN_pJA8nM"
      },
      "execution_count": 17,
      "outputs": []
    },
    {
      "cell_type": "code",
      "source": [
        "# Split the data into training and testing sets\n",
        "X_train, X_test, y_train, y_test = train_test_split(X, y, test_size=0.2, random_state=42)\n"
      ],
      "metadata": {
        "id": "rsqpIuJNBDOg"
      },
      "execution_count": 18,
      "outputs": []
    },
    {
      "cell_type": "code",
      "source": [
        "# Classification using Random Forest\n",
        "clf = RandomForestClassifier(random_state=42)\n",
        "clf.fit(X_train, y_train)\n",
        "classification_accuracy = clf.score(X_test, y_test)\n",
        "print(\"\\nClassification Model Accuracy:\", classification_accuracy)\n"
      ],
      "metadata": {
        "colab": {
          "base_uri": "https://localhost:8080/"
        },
        "id": "17oXAJxsBHdd",
        "outputId": "1286f050-33f2-4953-b6f4-ff8eccfa2627"
      },
      "execution_count": 19,
      "outputs": [
        {
          "output_type": "stream",
          "name": "stdout",
          "text": [
            "\n",
            "Classification Model Accuracy: 0.6715127092374458\n"
          ]
        }
      ]
    },
    {
      "cell_type": "code",
      "source": [
        "# Clustering using KMeans\n",
        "kmeans = KMeans(n_clusters=5, random_state=42)\n",
        "df['cluster'] = kmeans.fit_predict(X)\n",
        "print(\"\\nClustering Model: Assigned clusters to the dataset\")"
      ],
      "metadata": {
        "colab": {
          "base_uri": "https://localhost:8080/"
        },
        "id": "i5pXVpyABQvA",
        "outputId": "8b5b1a39-7908-4b7d-dc3f-5fb159bb0013"
      },
      "execution_count": 20,
      "outputs": [
        {
          "output_type": "stream",
          "name": "stdout",
          "text": [
            "\n",
            "Clustering Model: Assigned clusters to the dataset\n"
          ]
        }
      ]
    },
    {
      "cell_type": "code",
      "source": [
        "# Optional: Visualize the clustering result\n",
        "plt.scatter(df['condition_encoded'], df['usefulCount'], c=df['cluster'], cmap='viridis')\n",
        "plt.title(\"Clustering of Drugs\")\n",
        "plt.xlabel(\"Condition (Encoded)\")\n",
        "plt.ylabel(\"Useful Count\")\n",
        "plt.colorbar(label=\"Cluster\")\n",
        "plt.show()"
      ],
      "metadata": {
        "colab": {
          "base_uri": "https://localhost:8080/",
          "height": 472
        },
        "id": "LRk5zdMHBUmT",
        "outputId": "9115d6c1-d7ab-4d17-cdee-f587c993966a"
      },
      "execution_count": 21,
      "outputs": [
        {
          "output_type": "display_data",
          "data": {
            "text/plain": [
              "<Figure size 640x480 with 2 Axes>"
            ],
            "image/png": "[encoded data removed]"
          },
          "metadata": {}
        }
      ]
    }
  ]
}